{
 "cells": [
  {
   "cell_type": "markdown",
   "id": "8829fa31-28ed-491d-8b05-8d0a24440164",
   "metadata": {
    "tags": []
   },
   "source": [
    "# Study of the probability of a change in the exchange rate of the dollar against the Georgian lari"
   ]
  },
  {
   "cell_type": "markdown",
   "id": "c7dd1904-a943-42e2-97ac-9c42d19fe638",
   "metadata": {},
   "source": [
    "Loading the required libraries"
   ]
  },
  {
   "cell_type": "code",
   "execution_count": 1,
   "id": "b08771ec-63a3-4bec-8454-731b38d21227",
   "metadata": {},
   "outputs": [],
   "source": [
    "import pandas as pd\n",
    "from matplotlib import pyplot as plt\n",
    "from scipy.stats import norm\n",
    "import numpy as np\n",
    "import seaborn as sb"
   ]
  },
  {
   "cell_type": "markdown",
   "id": "c876de87-78f4-40d3-bea3-87dd2f1a20a5",
   "metadata": {},
   "source": [
    "Download the history of exchange rate changes since 2015. Source https://www.investing.com/"
   ]
  },
  {
   "cell_type": "code",
   "execution_count": 42,
   "id": "32607ae5-5074-476c-80ef-d1f738b3b91b",
   "metadata": {},
   "outputs": [
    {
     "data": {
      "text/html": [
       "<div>\n",
       "<style scoped>\n",
       "    .dataframe tbody tr th:only-of-type {\n",
       "        vertical-align: middle;\n",
       "    }\n",
       "\n",
       "    .dataframe tbody tr th {\n",
       "        vertical-align: top;\n",
       "    }\n",
       "\n",
       "    .dataframe thead th {\n",
       "        text-align: right;\n",
       "    }\n",
       "</style>\n",
       "<table border=\"1\" class=\"dataframe\">\n",
       "  <thead>\n",
       "    <tr style=\"text-align: right;\">\n",
       "      <th></th>\n",
       "      <th>Date</th>\n",
       "      <th>Price</th>\n",
       "      <th>Open</th>\n",
       "      <th>High</th>\n",
       "      <th>Low</th>\n",
       "      <th>Change %</th>\n",
       "    </tr>\n",
       "  </thead>\n",
       "  <tbody>\n",
       "    <tr>\n",
       "      <th>0</th>\n",
       "      <td>Jul 01, 2022</td>\n",
       "      <td>2.8700</td>\n",
       "      <td>2.9375</td>\n",
       "      <td>2.9400</td>\n",
       "      <td>2.8700</td>\n",
       "      <td>-1.71%</td>\n",
       "    </tr>\n",
       "    <tr>\n",
       "      <th>1</th>\n",
       "      <td>Jun 30, 2022</td>\n",
       "      <td>2.9200</td>\n",
       "      <td>2.9325</td>\n",
       "      <td>2.9425</td>\n",
       "      <td>2.9325</td>\n",
       "      <td>0.17%</td>\n",
       "    </tr>\n",
       "    <tr>\n",
       "      <th>2</th>\n",
       "      <td>Jun 29, 2022</td>\n",
       "      <td>2.9150</td>\n",
       "      <td>2.9325</td>\n",
       "      <td>2.9400</td>\n",
       "      <td>2.9325</td>\n",
       "      <td>-0.85%</td>\n",
       "    </tr>\n",
       "    <tr>\n",
       "      <th>3</th>\n",
       "      <td>Jun 28, 2022</td>\n",
       "      <td>2.9400</td>\n",
       "      <td>2.9275</td>\n",
       "      <td>2.9402</td>\n",
       "      <td>2.9275</td>\n",
       "      <td>1.03%</td>\n",
       "    </tr>\n",
       "    <tr>\n",
       "      <th>4</th>\n",
       "      <td>Jun 27, 2022</td>\n",
       "      <td>2.9100</td>\n",
       "      <td>2.9275</td>\n",
       "      <td>2.9427</td>\n",
       "      <td>2.9260</td>\n",
       "      <td>0.00%</td>\n",
       "    </tr>\n",
       "    <tr>\n",
       "      <th>...</th>\n",
       "      <td>...</td>\n",
       "      <td>...</td>\n",
       "      <td>...</td>\n",
       "      <td>...</td>\n",
       "      <td>...</td>\n",
       "      <td>...</td>\n",
       "    </tr>\n",
       "    <tr>\n",
       "      <th>1952</th>\n",
       "      <td>Jan 07, 2015</td>\n",
       "      <td>1.8929</td>\n",
       "      <td>1.8929</td>\n",
       "      <td>1.8929</td>\n",
       "      <td>1.8929</td>\n",
       "      <td>0.00%</td>\n",
       "    </tr>\n",
       "    <tr>\n",
       "      <th>1953</th>\n",
       "      <td>Jan 06, 2015</td>\n",
       "      <td>1.8929</td>\n",
       "      <td>1.8778</td>\n",
       "      <td>1.8937</td>\n",
       "      <td>1.8777</td>\n",
       "      <td>0.81%</td>\n",
       "    </tr>\n",
       "    <tr>\n",
       "      <th>1954</th>\n",
       "      <td>Jan 05, 2015</td>\n",
       "      <td>1.8777</td>\n",
       "      <td>1.8787</td>\n",
       "      <td>1.8787</td>\n",
       "      <td>1.8777</td>\n",
       "      <td>-0.27%</td>\n",
       "    </tr>\n",
       "    <tr>\n",
       "      <th>1955</th>\n",
       "      <td>Jan 02, 2015</td>\n",
       "      <td>1.8827</td>\n",
       "      <td>1.8827</td>\n",
       "      <td>1.8827</td>\n",
       "      <td>1.8827</td>\n",
       "      <td>0.00%</td>\n",
       "    </tr>\n",
       "    <tr>\n",
       "      <th>1956</th>\n",
       "      <td>Jan 01, 2015</td>\n",
       "      <td>1.8827</td>\n",
       "      <td>1.8827</td>\n",
       "      <td>1.8827</td>\n",
       "      <td>1.8827</td>\n",
       "      <td>0.00%</td>\n",
       "    </tr>\n",
       "  </tbody>\n",
       "</table>\n",
       "<p>1957 rows × 6 columns</p>\n",
       "</div>"
      ],
      "text/plain": [
       "              Date   Price    Open    High     Low Change %\n",
       "0     Jul 01, 2022  2.8700  2.9375  2.9400  2.8700   -1.71%\n",
       "1     Jun 30, 2022  2.9200  2.9325  2.9425  2.9325    0.17%\n",
       "2     Jun 29, 2022  2.9150  2.9325  2.9400  2.9325   -0.85%\n",
       "3     Jun 28, 2022  2.9400  2.9275  2.9402  2.9275    1.03%\n",
       "4     Jun 27, 2022  2.9100  2.9275  2.9427  2.9260    0.00%\n",
       "...            ...     ...     ...     ...     ...      ...\n",
       "1952  Jan 07, 2015  1.8929  1.8929  1.8929  1.8929    0.00%\n",
       "1953  Jan 06, 2015  1.8929  1.8778  1.8937  1.8777    0.81%\n",
       "1954  Jan 05, 2015  1.8777  1.8787  1.8787  1.8777   -0.27%\n",
       "1955  Jan 02, 2015  1.8827  1.8827  1.8827  1.8827    0.00%\n",
       "1956  Jan 01, 2015  1.8827  1.8827  1.8827  1.8827    0.00%\n",
       "\n",
       "[1957 rows x 6 columns]"
      ]
     },
     "execution_count": 42,
     "metadata": {},
     "output_type": "execute_result"
    }
   ],
   "source": [
    "data = pd.read_csv('USD_GEL Historical Data.csv')\n",
    "data"
   ]
  },
  {
   "cell_type": "markdown",
   "id": "55c848ac-506d-4e3d-966d-d281c78f651b",
   "metadata": {},
   "source": [
    "Let's add the exchange rate change for the week to the table"
   ]
  },
  {
   "cell_type": "code",
   "execution_count": 43,
   "id": "e445218c-98e2-45f9-bfef-d51094b3efd1",
   "metadata": {},
   "outputs": [
    {
     "data": {
      "text/html": [
       "<style type=\"text/css\">\n",
       "</style>\n",
       "<table id=\"T_2f383\">\n",
       "  <thead>\n",
       "    <tr>\n",
       "      <th class=\"blank level0\" >&nbsp;</th>\n",
       "      <th id=\"T_2f383_level0_col0\" class=\"col_heading level0 col0\" >Date</th>\n",
       "      <th id=\"T_2f383_level0_col1\" class=\"col_heading level0 col1\" >Price</th>\n",
       "      <th id=\"T_2f383_level0_col2\" class=\"col_heading level0 col2\" >Open</th>\n",
       "      <th id=\"T_2f383_level0_col3\" class=\"col_heading level0 col3\" >High</th>\n",
       "      <th id=\"T_2f383_level0_col4\" class=\"col_heading level0 col4\" >Low</th>\n",
       "      <th id=\"T_2f383_level0_col5\" class=\"col_heading level0 col5\" >Change %</th>\n",
       "      <th id=\"T_2f383_level0_col6\" class=\"col_heading level0 col6\" >Week_Change</th>\n",
       "    </tr>\n",
       "  </thead>\n",
       "  <tbody>\n",
       "    <tr>\n",
       "      <th id=\"T_2f383_level0_row0\" class=\"row_heading level0 row0\" >0</th>\n",
       "      <td id=\"T_2f383_row0_col0\" class=\"data row0 col0\" >Jul 01, 2022</td>\n",
       "      <td id=\"T_2f383_row0_col1\" class=\"data row0 col1\" >2.870000</td>\n",
       "      <td id=\"T_2f383_row0_col2\" class=\"data row0 col2\" >2.937500</td>\n",
       "      <td id=\"T_2f383_row0_col3\" class=\"data row0 col3\" >2.940000</td>\n",
       "      <td id=\"T_2f383_row0_col4\" class=\"data row0 col4\" >2.870000</td>\n",
       "      <td id=\"T_2f383_row0_col5\" class=\"data row0 col5\" >-1.71%</td>\n",
       "      <td id=\"T_2f383_row0_col6\" class=\"data row0 col6\" >0.00%</td>\n",
       "    </tr>\n",
       "    <tr>\n",
       "      <th id=\"T_2f383_level0_row1\" class=\"row_heading level0 row1\" >1</th>\n",
       "      <td id=\"T_2f383_row1_col0\" class=\"data row1 col0\" >Jun 30, 2022</td>\n",
       "      <td id=\"T_2f383_row1_col1\" class=\"data row1 col1\" >2.920000</td>\n",
       "      <td id=\"T_2f383_row1_col2\" class=\"data row1 col2\" >2.932500</td>\n",
       "      <td id=\"T_2f383_row1_col3\" class=\"data row1 col3\" >2.942500</td>\n",
       "      <td id=\"T_2f383_row1_col4\" class=\"data row1 col4\" >2.932500</td>\n",
       "      <td id=\"T_2f383_row1_col5\" class=\"data row1 col5\" >0.17%</td>\n",
       "      <td id=\"T_2f383_row1_col6\" class=\"data row1 col6\" >1.92%</td>\n",
       "    </tr>\n",
       "    <tr>\n",
       "      <th id=\"T_2f383_level0_row2\" class=\"row_heading level0 row2\" >2</th>\n",
       "      <td id=\"T_2f383_row2_col0\" class=\"data row2 col0\" >Jun 29, 2022</td>\n",
       "      <td id=\"T_2f383_row2_col1\" class=\"data row2 col1\" >2.915000</td>\n",
       "      <td id=\"T_2f383_row2_col2\" class=\"data row2 col2\" >2.932500</td>\n",
       "      <td id=\"T_2f383_row2_col3\" class=\"data row2 col3\" >2.940000</td>\n",
       "      <td id=\"T_2f383_row2_col4\" class=\"data row2 col4\" >2.932500</td>\n",
       "      <td id=\"T_2f383_row2_col5\" class=\"data row2 col5\" >-0.85%</td>\n",
       "      <td id=\"T_2f383_row2_col6\" class=\"data row2 col6\" >1.57%</td>\n",
       "    </tr>\n",
       "    <tr>\n",
       "      <th id=\"T_2f383_level0_row3\" class=\"row_heading level0 row3\" >3</th>\n",
       "      <td id=\"T_2f383_row3_col0\" class=\"data row3 col0\" >Jun 28, 2022</td>\n",
       "      <td id=\"T_2f383_row3_col1\" class=\"data row3 col1\" >2.940000</td>\n",
       "      <td id=\"T_2f383_row3_col2\" class=\"data row3 col2\" >2.927500</td>\n",
       "      <td id=\"T_2f383_row3_col3\" class=\"data row3 col3\" >2.940200</td>\n",
       "      <td id=\"T_2f383_row3_col4\" class=\"data row3 col4\" >2.927500</td>\n",
       "      <td id=\"T_2f383_row3_col5\" class=\"data row3 col5\" >1.03%</td>\n",
       "      <td id=\"T_2f383_row3_col6\" class=\"data row3 col6\" >1.82%</td>\n",
       "    </tr>\n",
       "    <tr>\n",
       "      <th id=\"T_2f383_level0_row4\" class=\"row_heading level0 row4\" >4</th>\n",
       "      <td id=\"T_2f383_row4_col0\" class=\"data row4 col0\" >Jun 27, 2022</td>\n",
       "      <td id=\"T_2f383_row4_col1\" class=\"data row4 col1\" >2.910000</td>\n",
       "      <td id=\"T_2f383_row4_col2\" class=\"data row4 col2\" >2.927500</td>\n",
       "      <td id=\"T_2f383_row4_col3\" class=\"data row4 col3\" >2.942700</td>\n",
       "      <td id=\"T_2f383_row4_col4\" class=\"data row4 col4\" >2.926000</td>\n",
       "      <td id=\"T_2f383_row4_col5\" class=\"data row4 col5\" >0.00%</td>\n",
       "      <td id=\"T_2f383_row4_col6\" class=\"data row4 col6\" >1.04%</td>\n",
       "    </tr>\n",
       "  </tbody>\n",
       "</table>\n"
      ],
      "text/plain": [
       "<pandas.io.formats.style.Styler at 0x19bd2d1e970>"
      ]
     },
     "execution_count": 43,
     "metadata": {},
     "output_type": "execute_result"
    }
   ],
   "source": [
    "for s in range(1950):\n",
    "    data.loc[s, 'Week_Change'] = (data.loc[s, 'Price'] - data.loc[s + 7, 'Price']) / data.loc[s + 7, 'Price']\n",
    "    \n",
    "data = data[data.index < 1949]\n",
    "data.head().style.format({'Week_Change': '{:.2%}'})"
   ]
  },
  {
   "cell_type": "markdown",
   "id": "bef3ca5b-cc93-4c64-8f20-aeefb941fcea",
   "metadata": {},
   "source": [
    "Let's build a histogram, we see a normal distribution"
   ]
  },
  {
   "cell_type": "code",
   "execution_count": 44,
   "id": "34df9b30-681f-4b1a-8796-93d028a5f014",
   "metadata": {},
   "outputs": [
    {
     "data": {
      "image/png": "[encoded data removed]",
      "text/plain": [
       "<Figure size 432x288 with 1 Axes>"
      ]
     },
     "metadata": {
      "needs_background": "light"
     },
     "output_type": "display_data"
    }
   ],
   "source": [
    "data['Week_Change'].hist(bins = 100);"
   ]
  },
  {
   "cell_type": "markdown",
   "id": "3aafd8a7-4ce5-4330-908c-fbce0911a64e",
   "metadata": {},
   "source": [
    "Average exchange rate change close to zero"
   ]
  },
  {
   "cell_type": "code",
   "execution_count": 86,
   "id": "8ad161b0-c8df-443d-8975-f3bc969dd3a3",
   "metadata": {},
   "outputs": [
    {
     "name": "stdout",
     "output_type": "stream",
     "text": [
      "0.001743839858119606 0.020416965489248158 0.0009324009324008297\n"
     ]
    }
   ],
   "source": [
    "print(data['Week_Change'].mean(), data['Week_Change'].std(), data['Week_Change'].median())"
   ]
  },
  {
   "cell_type": "code",
   "execution_count": 95,
   "id": "0a4b34fe-2ba7-4840-91df-14c7d58a0789",
   "metadata": {},
   "outputs": [
    {
     "name": "stdout",
     "output_type": "stream",
     "text": [
      "The probability of the dollar falling below 3% percent is about 0.046\n"
     ]
    },
    {
     "name": "stderr",
     "output_type": "stream",
     "text": [
      "C:\\Users\\79110\\AppData\\Local\\Temp\\ipykernel_13512\\3862352732.py:3: UserWarning: Boolean Series key will be reindexed to match DataFrame index.\n",
      "  probability = data[data['Week_Change'] < change2][data['Week_Change'] > change1]['Week_Change'].count() / data['Week_Change'].count()\n"
     ]
    }
   ],
   "source": [
    "change1 = - 1\n",
    "change2 = - 0.03\n",
    "probability = data[data['Week_Change'] < change2][data['Week_Change'] > change1]['Week_Change'].count() / data['Week_Change'].count()\n",
    "\n",
    "print('The probability of the dollar falling below {:.0%} percent is about {:.3f}'.format(- change2, probability))"
   ]
  }
 ],
 "metadata": {
  "kernelspec": {
   "display_name": "Python 3 (ipykernel)",
   "language": "python",
   "name": "python3"
  },
  "language_info": {
   "codemirror_mode": {
    "name": "ipython",
    "version": 3
   },
   "file_extension": ".py",
   "mimetype": "text/x-python",
   "name": "python",
   "nbconvert_exporter": "python",
   "pygments_lexer": "ipython3",
   "version": "3.9.12"
  }
 },
 "nbformat": 4,
 "nbformat_minor": 5
}
